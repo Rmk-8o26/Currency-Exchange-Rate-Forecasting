{
 "cells": [
  {
   "cell_type": "markdown",
   "metadata": {},
   "source": [
    "### Phase1: Collecting Required Package and Dataset"
   ]
  },
  {
   "cell_type": "code",
   "execution_count": 1,
   "metadata": {},
   "outputs": [
    {
     "name": "stdout",
     "output_type": "stream",
     "text": [
      "WARNING:tensorflow:From c:\\Users\\Mohan\\anaconda3\\envs\\base_2\\Lib\\site-packages\\keras\\src\\losses.py:2976: The name tf.losses.sparse_softmax_cross_entropy is deprecated. Please use tf.compat.v1.losses.sparse_softmax_cross_entropy instead.\n",
      "\n"
     ]
    }
   ],
   "source": [
    "import pandas as pd\n",
    "import numpy as np\n",
    "import matplotlib.pyplot as plt\n",
    "from sklearn.preprocessing import MinMaxScaler\n",
    "from statsmodels.tsa.arima.model import ARIMA\n",
    "from keras.models import Sequential\n",
    "from keras.layers import LSTM, Dense\n",
    "from sklearn.metrics import mean_squared_error,mean_absolute_error,r2_score\n"
   ]
  },
  {
   "cell_type": "code",
   "execution_count": 2,
   "metadata": {},
   "outputs": [],
   "source": [
    "data = pd.read_csv(\"C:/Users/Mohan/Documents/___.__/Project/USDINR.csv\")"
   ]
  },
  {
   "cell_type": "markdown",
   "metadata": {},
   "source": [
    "### Phase2: Preprocessing"
   ]
  },
  {
   "cell_type": "code",
   "execution_count": 3,
   "metadata": {},
   "outputs": [],
   "source": [
    "data['Date'] = pd.to_datetime(data[\"Date\"], format='%d/%m/%Y %H:%M:%S')\n",
    "# data= data.set_index([\"Date\"], drop=False)"
   ]
  },
  {
   "cell_type": "code",
   "execution_count": 4,
   "metadata": {},
   "outputs": [],
   "source": [
    "data['Date']=data.Date.apply(lambda x: str(x).split(\" \")[0])"
   ]
  },
  {
   "cell_type": "code",
   "execution_count": 5,
   "metadata": {},
   "outputs": [],
   "source": [
    "data['Date'] = pd.to_datetime(data['Date'])"
   ]
  },
  {
   "cell_type": "code",
   "execution_count": 6,
   "metadata": {},
   "outputs": [
    {
     "data": {
      "text/plain": [
       "<AxesSubplot: >"
      ]
     },
     "execution_count": 6,
     "metadata": {},
     "output_type": "execute_result"
    },
    {
     "data": {
      "image/png": "[encoded data removed]",
      "text/plain": [
       "<Figure size 640x480 with 1 Axes>"
      ]
     },
     "metadata": {},
     "output_type": "display_data"
    }
   ],
   "source": [
    "data.plot(y='Close')"
   ]
  },
  {
   "cell_type": "code",
   "execution_count": 7,
   "metadata": {},
   "outputs": [
    {
     "data": {
      "text/plain": [
       "0      2002-01-01\n",
       "1      2002-01-02\n",
       "2      2002-01-03\n",
       "3      2002-01-04\n",
       "4      2002-01-05\n",
       "          ...    \n",
       "7506   2023-12-27\n",
       "7507   2023-12-28\n",
       "7508   2023-12-29\n",
       "7509   2023-12-30\n",
       "7510   2023-12-31\n",
       "Name: Date, Length: 7511, dtype: datetime64[ns]"
      ]
     },
     "execution_count": 7,
     "metadata": {},
     "output_type": "execute_result"
    }
   ],
   "source": [
    "data['Date'].sort_values()"
   ]
  },
  {
   "cell_type": "code",
   "execution_count": 8,
   "metadata": {},
   "outputs": [
    {
     "data": {
      "text/html": [
       "<div>\n",
       "<style scoped>\n",
       "    .dataframe tbody tr th:only-of-type {\n",
       "        vertical-align: middle;\n",
       "    }\n",
       "\n",
       "    .dataframe tbody tr th {\n",
       "        vertical-align: top;\n",
       "    }\n",
       "\n",
       "    .dataframe thead th {\n",
       "        text-align: right;\n",
       "    }\n",
       "</style>\n",
       "<table border=\"1\" class=\"dataframe\">\n",
       "  <thead>\n",
       "    <tr style=\"text-align: right;\">\n",
       "      <th></th>\n",
       "      <th>Date</th>\n",
       "      <th>Close</th>\n",
       "    </tr>\n",
       "  </thead>\n",
       "  <tbody>\n",
       "    <tr>\n",
       "      <th>0</th>\n",
       "      <td>2002-01-01</td>\n",
       "      <td>48.165</td>\n",
       "    </tr>\n",
       "    <tr>\n",
       "      <th>1</th>\n",
       "      <td>2002-01-02</td>\n",
       "      <td>48.171</td>\n",
       "    </tr>\n",
       "    <tr>\n",
       "      <th>2</th>\n",
       "      <td>2002-01-03</td>\n",
       "      <td>48.169</td>\n",
       "    </tr>\n",
       "    <tr>\n",
       "      <th>3</th>\n",
       "      <td>2002-01-04</td>\n",
       "      <td>48.166</td>\n",
       "    </tr>\n",
       "    <tr>\n",
       "      <th>4</th>\n",
       "      <td>2002-01-05</td>\n",
       "      <td>48.180</td>\n",
       "    </tr>\n",
       "  </tbody>\n",
       "</table>\n",
       "</div>"
      ],
      "text/plain": [
       "        Date   Close\n",
       "0 2002-01-01  48.165\n",
       "1 2002-01-02  48.171\n",
       "2 2002-01-03  48.169\n",
       "3 2002-01-04  48.166\n",
       "4 2002-01-05  48.180"
      ]
     },
     "execution_count": 8,
     "metadata": {},
     "output_type": "execute_result"
    }
   ],
   "source": [
    "data.head()"
   ]
  },
  {
   "cell_type": "code",
   "execution_count": 9,
   "metadata": {},
   "outputs": [
    {
     "data": {
      "text/html": [
       "<div>\n",
       "<style scoped>\n",
       "    .dataframe tbody tr th:only-of-type {\n",
       "        vertical-align: middle;\n",
       "    }\n",
       "\n",
       "    .dataframe tbody tr th {\n",
       "        vertical-align: top;\n",
       "    }\n",
       "\n",
       "    .dataframe thead th {\n",
       "        text-align: right;\n",
       "    }\n",
       "</style>\n",
       "<table border=\"1\" class=\"dataframe\">\n",
       "  <thead>\n",
       "    <tr style=\"text-align: right;\">\n",
       "      <th></th>\n",
       "      <th>Date</th>\n",
       "      <th>Close</th>\n",
       "    </tr>\n",
       "  </thead>\n",
       "  <tbody>\n",
       "    <tr>\n",
       "      <th>7506</th>\n",
       "      <td>2023-12-27</td>\n",
       "      <td>83.26745</td>\n",
       "    </tr>\n",
       "    <tr>\n",
       "      <th>7507</th>\n",
       "      <td>2023-12-28</td>\n",
       "      <td>82.89100</td>\n",
       "    </tr>\n",
       "    <tr>\n",
       "      <th>7508</th>\n",
       "      <td>2023-12-29</td>\n",
       "      <td>83.24885</td>\n",
       "    </tr>\n",
       "    <tr>\n",
       "      <th>7509</th>\n",
       "      <td>2023-12-30</td>\n",
       "      <td>83.24885</td>\n",
       "    </tr>\n",
       "    <tr>\n",
       "      <th>7510</th>\n",
       "      <td>2023-12-31</td>\n",
       "      <td>83.24885</td>\n",
       "    </tr>\n",
       "  </tbody>\n",
       "</table>\n",
       "</div>"
      ],
      "text/plain": [
       "           Date     Close\n",
       "7506 2023-12-27  83.26745\n",
       "7507 2023-12-28  82.89100\n",
       "7508 2023-12-29  83.24885\n",
       "7509 2023-12-30  83.24885\n",
       "7510 2023-12-31  83.24885"
      ]
     },
     "execution_count": 9,
     "metadata": {},
     "output_type": "execute_result"
    }
   ],
   "source": [
    "data.tail()"
   ]
  },
  {
   "cell_type": "code",
   "execution_count": 10,
   "metadata": {},
   "outputs": [
    {
     "data": {
      "text/html": [
       "<div>\n",
       "<style scoped>\n",
       "    .dataframe tbody tr th:only-of-type {\n",
       "        vertical-align: middle;\n",
       "    }\n",
       "\n",
       "    .dataframe tbody tr th {\n",
       "        vertical-align: top;\n",
       "    }\n",
       "\n",
       "    .dataframe thead th {\n",
       "        text-align: right;\n",
       "    }\n",
       "</style>\n",
       "<table border=\"1\" class=\"dataframe\">\n",
       "  <thead>\n",
       "    <tr style=\"text-align: right;\">\n",
       "      <th></th>\n",
       "      <th>Close</th>\n",
       "    </tr>\n",
       "  </thead>\n",
       "  <tbody>\n",
       "    <tr>\n",
       "      <th>count</th>\n",
       "      <td>7511.000000</td>\n",
       "    </tr>\n",
       "    <tr>\n",
       "      <th>mean</th>\n",
       "      <td>58.476561</td>\n",
       "    </tr>\n",
       "    <tr>\n",
       "      <th>std</th>\n",
       "      <td>13.007357</td>\n",
       "    </tr>\n",
       "    <tr>\n",
       "      <th>min</th>\n",
       "      <td>39.045000</td>\n",
       "    </tr>\n",
       "    <tr>\n",
       "      <th>25%</th>\n",
       "      <td>45.949500</td>\n",
       "    </tr>\n",
       "    <tr>\n",
       "      <th>50%</th>\n",
       "      <td>59.168000</td>\n",
       "    </tr>\n",
       "    <tr>\n",
       "      <th>75%</th>\n",
       "      <td>69.524250</td>\n",
       "    </tr>\n",
       "    <tr>\n",
       "      <th>max</th>\n",
       "      <td>85.201500</td>\n",
       "    </tr>\n",
       "  </tbody>\n",
       "</table>\n",
       "</div>"
      ],
      "text/plain": [
       "             Close\n",
       "count  7511.000000\n",
       "mean     58.476561\n",
       "std      13.007357\n",
       "min      39.045000\n",
       "25%      45.949500\n",
       "50%      59.168000\n",
       "75%      69.524250\n",
       "max      85.201500"
      ]
     },
     "execution_count": 10,
     "metadata": {},
     "output_type": "execute_result"
    }
   ],
   "source": [
    "data.describe()"
   ]
  },
  {
   "cell_type": "code",
   "execution_count": 11,
   "metadata": {},
   "outputs": [
    {
     "name": "stdout",
     "output_type": "stream",
     "text": [
      "5685 1826\n"
     ]
    }
   ],
   "source": [
    "split_date = pd.Timestamp('01-01-2019')\n",
    "\n",
    "test = data[data['Date']>=split_date]\n",
    "train = data[data['Date']<split_date]\n",
    "print(len(train),len(test))\n"
   ]
  },
  {
   "cell_type": "code",
   "execution_count": 12,
   "metadata": {},
   "outputs": [],
   "source": [
    "train=train.drop(['Date'],axis=1)\n",
    "test=test.drop(['Date'],axis=1)"
   ]
  },
  {
   "cell_type": "code",
   "execution_count": 13,
   "metadata": {},
   "outputs": [],
   "source": [
    "from sklearn.preprocessing import MinMaxScaler\n",
    "sc = MinMaxScaler()\n",
    "train = sc.fit_transform(train)\n",
    "test = sc.transform(test)"
   ]
  },
  {
   "cell_type": "code",
   "execution_count": 14,
   "metadata": {},
   "outputs": [],
   "source": [
    "train=pd.DataFrame(train)\n",
    "test=pd.DataFrame(test)"
   ]
  },
  {
   "cell_type": "code",
   "execution_count": 15,
   "metadata": {},
   "outputs": [
    {
     "data": {
      "text/html": [
       "<div>\n",
       "<style scoped>\n",
       "    .dataframe tbody tr th:only-of-type {\n",
       "        vertical-align: middle;\n",
       "    }\n",
       "\n",
       "    .dataframe tbody tr th {\n",
       "        vertical-align: top;\n",
       "    }\n",
       "\n",
       "    .dataframe thead th {\n",
       "        text-align: right;\n",
       "    }\n",
       "</style>\n",
       "<table border=\"1\" class=\"dataframe\">\n",
       "  <thead>\n",
       "    <tr style=\"text-align: right;\">\n",
       "      <th></th>\n",
       "      <th>0</th>\n",
       "    </tr>\n",
       "  </thead>\n",
       "  <tbody>\n",
       "    <tr>\n",
       "      <th>0</th>\n",
       "      <td>0.256504</td>\n",
       "    </tr>\n",
       "    <tr>\n",
       "      <th>1</th>\n",
       "      <td>0.256673</td>\n",
       "    </tr>\n",
       "    <tr>\n",
       "      <th>2</th>\n",
       "      <td>0.256617</td>\n",
       "    </tr>\n",
       "    <tr>\n",
       "      <th>3</th>\n",
       "      <td>0.256532</td>\n",
       "    </tr>\n",
       "    <tr>\n",
       "      <th>4</th>\n",
       "      <td>0.256926</td>\n",
       "    </tr>\n",
       "    <tr>\n",
       "      <th>...</th>\n",
       "      <td>...</td>\n",
       "    </tr>\n",
       "    <tr>\n",
       "      <th>5680</th>\n",
       "      <td>0.870342</td>\n",
       "    </tr>\n",
       "    <tr>\n",
       "      <th>5681</th>\n",
       "      <td>0.866404</td>\n",
       "    </tr>\n",
       "    <tr>\n",
       "      <th>5682</th>\n",
       "      <td>0.860357</td>\n",
       "    </tr>\n",
       "    <tr>\n",
       "      <th>5683</th>\n",
       "      <td>0.868443</td>\n",
       "    </tr>\n",
       "    <tr>\n",
       "      <th>5684</th>\n",
       "      <td>0.862467</td>\n",
       "    </tr>\n",
       "  </tbody>\n",
       "</table>\n",
       "<p>5685 rows × 1 columns</p>\n",
       "</div>"
      ],
      "text/plain": [
       "             0\n",
       "0     0.256504\n",
       "1     0.256673\n",
       "2     0.256617\n",
       "3     0.256532\n",
       "4     0.256926\n",
       "...        ...\n",
       "5680  0.870342\n",
       "5681  0.866404\n",
       "5682  0.860357\n",
       "5683  0.868443\n",
       "5684  0.862467\n",
       "\n",
       "[5685 rows x 1 columns]"
      ]
     },
     "execution_count": 15,
     "metadata": {},
     "output_type": "execute_result"
    }
   ],
   "source": [
    "train"
   ]
  },
  {
   "cell_type": "markdown",
   "metadata": {},
   "source": [
    "### Phase3: LSTM layer"
   ]
  },
  {
   "cell_type": "code",
   "execution_count": 16,
   "metadata": {},
   "outputs": [
    {
     "name": "stdout",
     "output_type": "stream",
     "text": [
      "(5674, 10, 1) (5674, 1)\n",
      "WARNING:tensorflow:From c:\\Users\\Mohan\\anaconda3\\envs\\base_2\\Lib\\site-packages\\keras\\src\\backend.py:873: The name tf.get_default_graph is deprecated. Please use tf.compat.v1.get_default_graph instead.\n",
      "\n",
      "WARNING:tensorflow:From c:\\Users\\Mohan\\anaconda3\\envs\\base_2\\Lib\\site-packages\\keras\\src\\optimizers\\__init__.py:309: The name tf.train.Optimizer is deprecated. Please use tf.compat.v1.train.Optimizer instead.\n",
      "\n",
      "Model: \"sequential\"\n",
      "_________________________________________________________________\n",
      " Layer (type)                Output Shape              Param #   \n",
      "=================================================================\n",
      " lstm (LSTM)                 (None, 10, 50)            10400     \n",
      "                                                                 \n",
      " lstm_1 (LSTM)               (None, 50)                20200     \n",
      "                                                                 \n",
      " dense (Dense)               (None, 1)                 51        \n",
      "                                                                 \n",
      "=================================================================\n",
      "Total params: 30651 (119.73 KB)\n",
      "Trainable params: 30651 (119.73 KB)\n",
      "Non-trainable params: 0 (0.00 Byte)\n",
      "_________________________________________________________________\n",
      "WARNING:tensorflow:From c:\\Users\\Mohan\\anaconda3\\envs\\base_2\\Lib\\site-packages\\keras\\src\\utils\\tf_utils.py:492: The name tf.ragged.RaggedTensorValue is deprecated. Please use tf.compat.v1.ragged.RaggedTensorValue instead.\n",
      "\n"
     ]
    }
   ],
   "source": [
    "# Define and train LSTM model\n",
    "def create_lstm_model(input_shape):\n",
    "    look_back = 10\n",
    "    model = Sequential()\n",
    "    model.add(LSTM(units=50, return_sequences=True, input_shape=(look_back, 1)))  # Hyperparameter: Number of LSTM units\n",
    "    model.add(LSTM(units=50))\n",
    "    model.add(Dense(1))\n",
    "    model.compile(loss='mean_squared_error', optimizer='adam')\n",
    "    return model\n",
    "\n",
    "def train_lstm_model(train_data):\n",
    "    X_train, y_train = [], []\n",
    "    for i in range(len(train_data)-11):\n",
    "        X_train.append(train_data.iloc[i:i+10])\n",
    "        y_train.append(train_data.iloc[i+11])\n",
    "    X_train, y_train = np.array(X_train), np.array(y_train)\n",
    "    print(X_train.shape,y_train.shape)\n",
    "    model = create_lstm_model(X_train.shape[1:])\n",
    "    model.summary()\n",
    "    model.fit(X_train, y_train, epochs=20, batch_size=1, verbose=0)\n",
    "    \n",
    "    return model\n",
    "\n",
    "lstm_model = train_lstm_model(train)\n",
    "\n",
    "\n"
   ]
  },
  {
   "cell_type": "code",
   "execution_count": 17,
   "metadata": {},
   "outputs": [],
   "source": [
    "# Make predictions using LSTM model\n",
    "def lstm_forecast(model, test_data):\n",
    "    X_test, y_test = [], []\n",
    "    for i in range(len(test_data)-11):\n",
    "        X_test.append(test_data.iloc[i:i+10])\n",
    "        y_test.append(test_data.iloc[i+11])\n",
    "    X_test, y_test = np.array(X_test), np.array(y_test)\n",
    "    \n",
    "    y_pred = model.predict(X_test, verbose=0)\n",
    "    return y_pred, y_test\n",
    "\n",
    "lstm_predictions, y_test = lstm_forecast(lstm_model,test)"
   ]
  },
  {
   "cell_type": "code",
   "execution_count": 18,
   "metadata": {},
   "outputs": [
    {
     "data": {
      "text/plain": [
       "array([[0.8865721 ],\n",
       "       [0.8798558 ],\n",
       "       [0.88109225],\n",
       "       ...,\n",
       "       [1.1864378 ],\n",
       "       [1.1797426 ],\n",
       "       [1.1868142 ]], dtype=float32)"
      ]
     },
     "execution_count": 18,
     "metadata": {},
     "output_type": "execute_result"
    }
   ],
   "source": [
    "lstm_predictions"
   ]
  },
  {
   "cell_type": "code",
   "execution_count": 19,
   "metadata": {},
   "outputs": [
    {
     "data": {
      "text/plain": [
       "array([[0.88102939],\n",
       "       [0.88102939],\n",
       "       [0.90113908],\n",
       "       ...,\n",
       "       [1.24325271],\n",
       "       [1.24325271],\n",
       "       [1.24325271]])"
      ]
     },
     "execution_count": 19,
     "metadata": {},
     "output_type": "execute_result"
    }
   ],
   "source": [
    "y_test"
   ]
  },
  {
   "cell_type": "markdown",
   "metadata": {},
   "source": [
    "### Phase4: ARIMA layer"
   ]
  },
  {
   "cell_type": "code",
   "execution_count": 20,
   "metadata": {},
   "outputs": [],
   "source": [
    "# Calculate residuals (difference between actual values and LSTM predictions)\n",
    "residuals = y_test - lstm_predictions\n",
    "\n",
    "# Train ARIMA model on residuals\n",
    "arima_model = ARIMA(residuals, order=(5,1,0))\n",
    "arima_model_fit = arima_model.fit()\n",
    "\n",
    "# Make predictions using ARIMA modeL\n",
    "arima_predictions = arima_model_fit.forecast(steps=len(y_test))\n",
    "arima_predictions=arima_predictions.reshape(-1,1)\n",
    "# Combine forecasts from LSTM and ARIMA\n",
    "hybrid_forecast = lstm_predictions + arima_predictions"
   ]
  },
  {
   "cell_type": "code",
   "execution_count": 21,
   "metadata": {},
   "outputs": [
    {
     "data": {
      "text/plain": [
       "(1815, 1)"
      ]
     },
     "execution_count": 21,
     "metadata": {},
     "output_type": "execute_result"
    }
   ],
   "source": [
    "lstm_predictions.shape"
   ]
  },
  {
   "cell_type": "code",
   "execution_count": 22,
   "metadata": {},
   "outputs": [
    {
     "data": {
      "text/plain": [
       "(1815, 1)"
      ]
     },
     "execution_count": 22,
     "metadata": {},
     "output_type": "execute_result"
    }
   ],
   "source": [
    "arima_predictions.shape"
   ]
  },
  {
   "cell_type": "code",
   "execution_count": 23,
   "metadata": {},
   "outputs": [
    {
     "data": {
      "text/plain": [
       "(1815, 1)"
      ]
     },
     "execution_count": 23,
     "metadata": {},
     "output_type": "execute_result"
    }
   ],
   "source": [
    "hybrid_forecast.shape"
   ]
  },
  {
   "cell_type": "code",
   "execution_count": 24,
   "metadata": {},
   "outputs": [],
   "source": [
    "mae_lstm = mean_absolute_error(lstm_predictions,y_test)\n",
    "mae_arima =mean_absolute_error(arima_predictions, y_test)\n",
    "mae_hybrid =mean_absolute_error(hybrid_forecast,y_test)\n",
    "mse_lstm = mean_squared_error(lstm_predictions,y_test)\n",
    "mse_arima =mean_squared_error(arima_predictions, y_test)\n",
    "mse_hybrid =mean_squared_error(hybrid_forecast,y_test)\n",
    "rmse_lstm = np.sqrt(mean_squared_error(lstm_predictions,y_test))\n",
    "rmse_arima =np.sqrt(mean_squared_error(arima_predictions, y_test))\n",
    "rmse_hybrid =np.sqrt(mean_squared_error(hybrid_forecast,y_test))\n",
    "r2_lstm = r2_score(lstm_predictions,y_test)\n",
    "r2_arima =r2_score(arima_predictions, y_test)\n",
    "r2_hybrid =r2_score(hybrid_forecast,y_test)"
   ]
  },
  {
   "cell_type": "markdown",
   "metadata": {},
   "source": [
    "### Phase5: Results and Conclusions"
   ]
  },
  {
   "cell_type": "code",
   "execution_count": 25,
   "metadata": {},
   "outputs": [
    {
     "name": "stdout",
     "output_type": "stream",
     "text": [
      "Mean Absolute Error (LSTM)  : 0.02277481369515258\n",
      "Mean Absolute Error (ARIMA)    : 0.9820044336671324\n",
      "Mean Absolute Error (Hybrid): 0.03632688408544797\n",
      "\n",
      "Mean Squared Error (LSTM)  : 0.0009051199148986137\n",
      "Mean Squared Error (ARIMA)    : 0.980087979098805\n",
      "Mean Squared Error (Hybrid): 0.0017302654291862824\n",
      "\n",
      "Root Mean Squared Error (LSTM)  : 0.030085210900018863\n",
      "Root Mean Squared Error (ARIMA)    : 0.9899939288191645\n",
      "Root Mean Squared Error (Hybrid): 0.04159645933473524\n",
      "\n",
      "r2_score (LSTM)  : 0.920277351209932\n",
      "r2_score (ARIMA)    : -403500313.3919604\n",
      "r2_score (Hybrid): 0.8476013022405243\n"
     ]
    },
    {
     "data": {
      "image/png": "[encoded data removed]",
      "text/plain": [
       "<Figure size 1200x600 with 1 Axes>"
      ]
     },
     "metadata": {},
     "output_type": "display_data"
    }
   ],
   "source": [
    "print(\"Mean Absolute Error (LSTM)  :\", mae_lstm)\n",
    "print(\"Mean Absolute Error (ARIMA)    :\", mae_arima)\n",
    "print(\"Mean Absolute Error (Hybrid):\", mae_hybrid)\n",
    "print(\"\")\n",
    "print(\"Mean Squared Error (LSTM)  :\", mse_lstm)\n",
    "print(\"Mean Squared Error (ARIMA)    :\", mse_arima)\n",
    "print(\"Mean Squared Error (Hybrid):\", mse_hybrid)\n",
    "print(\"\")\n",
    "print(\"Root Mean Squared Error (LSTM)  :\", rmse_lstm)\n",
    "print(\"Root Mean Squared Error (ARIMA)    :\", rmse_arima)\n",
    "print(\"Root Mean Squared Error (Hybrid):\", rmse_hybrid)\n",
    "print(\"\")\n",
    "print(\"r2_score (LSTM)  :\", r2_lstm)\n",
    "print(\"r2_score (ARIMA)    :\", r2_arima)\n",
    "print(\"r2_score (Hybrid):\", r2_hybrid)\n",
    "\n",
    "# Plot forecasts\n",
    "plt.figure(figsize=(12,6))\n",
    "plt.plot(y_test, label='Actual')\n",
    "plt.plot(lstm_predictions, label='LSTM')\n",
    "#plt.plot(arima_predictions, label='ARIMA')\n",
    "plt.plot(hybrid_forecast, label='Hybrid')\n",
    "plt.legend()\n",
    "plt.show()"
   ]
  },
  {
   "cell_type": "code",
   "execution_count": 26,
   "metadata": {},
   "outputs": [],
   "source": [
    "final_predictions=np.array(hybrid_forecast)\n",
    "final_predictions=pd.DataFrame(final_predictions)\n",
    "final_predictions.to_csv('LSTIM_ARIMA_USDINR.csv', index=False)"
   ]
  },
  {
   "cell_type": "code",
   "execution_count": null,
   "metadata": {},
   "outputs": [],
   "source": []
  }
 ],
 "metadata": {
  "kernelspec": {
   "display_name": "Python 3",
   "language": "python",
   "name": "python3"
  },
  "language_info": {
   "codemirror_mode": {
    "name": "ipython",
    "version": 3
   },
   "file_extension": ".py",
   "mimetype": "text/x-python",
   "name": "python",
   "nbconvert_exporter": "python",
   "pygments_lexer": "ipython3",
   "version": "3.11.8"
  }
 },
 "nbformat": 4,
 "nbformat_minor": 2
}
