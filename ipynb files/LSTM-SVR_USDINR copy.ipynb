{
 "cells": [
  {
   "cell_type": "markdown",
   "metadata": {},
   "source": [
    "### Phase1: Collecting Required Packages and Dataset"
   ]
  },
  {
   "cell_type": "code",
   "execution_count": 1,
   "metadata": {},
   "outputs": [
    {
     "name": "stdout",
     "output_type": "stream",
     "text": [
      "WARNING:tensorflow:From c:\\Users\\Mohan\\anaconda3\\envs\\base_2\\Lib\\site-packages\\keras\\src\\losses.py:2976: The name tf.losses.sparse_softmax_cross_entropy is deprecated. Please use tf.compat.v1.losses.sparse_softmax_cross_entropy instead.\n",
      "\n"
     ]
    }
   ],
   "source": [
    "import pandas as pd\n",
    "import numpy as np\n",
    "import matplotlib.pyplot as plt\n",
    "%matplotlib inline\n",
    "from tensorflow import keras\n",
    "from keras.models import Sequential\n",
    "from keras.layers import Dense, LSTM\n",
    "from sklearn.preprocessing import MinMaxScaler\n",
    "from sklearn.svm import SVR\n",
    "from sklearn.model_selection import train_test_split\n",
    "from sklearn.metrics import mean_squared_error,mean_absolute_error,r2_score"
   ]
  },
  {
   "cell_type": "code",
   "execution_count": 2,
   "metadata": {},
   "outputs": [],
   "source": [
    "df = pd.read_csv(\"C:/Users/Mohan/Documents/___.__/Project/USDINR.csv\")"
   ]
  },
  {
   "cell_type": "markdown",
   "metadata": {},
   "source": [
    "### Phase2: Preprocessing"
   ]
  },
  {
   "cell_type": "code",
   "execution_count": 3,
   "metadata": {},
   "outputs": [
    {
     "data": {
      "text/html": [
       "<div>\n",
       "<style scoped>\n",
       "    .dataframe tbody tr th:only-of-type {\n",
       "        vertical-align: middle;\n",
       "    }\n",
       "\n",
       "    .dataframe tbody tr th {\n",
       "        vertical-align: top;\n",
       "    }\n",
       "\n",
       "    .dataframe thead th {\n",
       "        text-align: right;\n",
       "    }\n",
       "</style>\n",
       "<table border=\"1\" class=\"dataframe\">\n",
       "  <thead>\n",
       "    <tr style=\"text-align: right;\">\n",
       "      <th></th>\n",
       "      <th>Date</th>\n",
       "      <th>Close</th>\n",
       "    </tr>\n",
       "  </thead>\n",
       "  <tbody>\n",
       "    <tr>\n",
       "      <th>0</th>\n",
       "      <td>01/01/2002 23:58:00</td>\n",
       "      <td>48.165</td>\n",
       "    </tr>\n",
       "    <tr>\n",
       "      <th>1</th>\n",
       "      <td>02/01/2002 23:58:00</td>\n",
       "      <td>48.171</td>\n",
       "    </tr>\n",
       "    <tr>\n",
       "      <th>2</th>\n",
       "      <td>03/01/2002 23:58:00</td>\n",
       "      <td>48.169</td>\n",
       "    </tr>\n",
       "    <tr>\n",
       "      <th>3</th>\n",
       "      <td>04/01/2002 23:58:00</td>\n",
       "      <td>48.166</td>\n",
       "    </tr>\n",
       "    <tr>\n",
       "      <th>4</th>\n",
       "      <td>05/01/2002 23:58:00</td>\n",
       "      <td>48.180</td>\n",
       "    </tr>\n",
       "  </tbody>\n",
       "</table>\n",
       "</div>"
      ],
      "text/plain": [
       "                  Date   Close\n",
       "0  01/01/2002 23:58:00  48.165\n",
       "1  02/01/2002 23:58:00  48.171\n",
       "2  03/01/2002 23:58:00  48.169\n",
       "3  04/01/2002 23:58:00  48.166\n",
       "4  05/01/2002 23:58:00  48.180"
      ]
     },
     "execution_count": 3,
     "metadata": {},
     "output_type": "execute_result"
    }
   ],
   "source": [
    "df.head()"
   ]
  },
  {
   "cell_type": "code",
   "execution_count": 4,
   "metadata": {},
   "outputs": [
    {
     "name": "stdout",
     "output_type": "stream",
     "text": [
      "<class 'pandas.core.frame.DataFrame'>\n",
      "RangeIndex: 7511 entries, 0 to 7510\n",
      "Data columns (total 2 columns):\n",
      " #   Column  Non-Null Count  Dtype  \n",
      "---  ------  --------------  -----  \n",
      " 0   Date    7511 non-null   object \n",
      " 1   Close   7511 non-null   float64\n",
      "dtypes: float64(1), object(1)\n",
      "memory usage: 117.5+ KB\n",
      "None\n"
     ]
    }
   ],
   "source": [
    "print(df.info())"
   ]
  },
  {
   "cell_type": "code",
   "execution_count": 5,
   "metadata": {},
   "outputs": [
    {
     "name": "stderr",
     "output_type": "stream",
     "text": [
      "C:\\Users\\Mohan\\AppData\\Local\\Temp\\ipykernel_14140\\303604782.py:2: FutureWarning: DataFrame.set_axis 'inplace' keyword is deprecated and will be removed in a future version. Use `obj = obj.set_axis(..., copy=False)` instead\n",
      "  df.set_axis(df['Date'], inplace=True)\n"
     ]
    }
   ],
   "source": [
    "df['Date'] = pd.to_datetime(df['Date'])\n",
    "df.set_axis(df['Date'], inplace=True)"
   ]
  },
  {
   "cell_type": "code",
   "execution_count": 6,
   "metadata": {},
   "outputs": [
    {
     "name": "stdout",
     "output_type": "stream",
     "text": [
      "<class 'pandas.core.frame.DataFrame'>\n",
      "DatetimeIndex: 7511 entries, 2002-01-01 23:58:00 to 2023-12-31 23:58:00\n",
      "Data columns (total 2 columns):\n",
      " #   Column  Non-Null Count  Dtype         \n",
      "---  ------  --------------  -----         \n",
      " 0   Date    7511 non-null   datetime64[ns]\n",
      " 1   Close   7511 non-null   float64       \n",
      "dtypes: datetime64[ns](1), float64(1)\n",
      "memory usage: 176.0 KB\n"
     ]
    }
   ],
   "source": [
    "df.info()"
   ]
  },
  {
   "cell_type": "code",
   "execution_count": 7,
   "metadata": {},
   "outputs": [
    {
     "data": {
      "image/png": "[encoded data removed]",
      "text/plain": [
       "<Figure size 640x480 with 1 Axes>"
      ]
     },
     "metadata": {},
     "output_type": "display_data"
    }
   ],
   "source": [
    "data=df[['Close']]\n",
    "df['Close'].plot(y='Close')\n",
    "plt.show()"
   ]
  },
  {
   "cell_type": "code",
   "execution_count": 8,
   "metadata": {},
   "outputs": [
    {
     "data": {
      "image/png": "[encoded data removed]",
      "text/plain": [
       "<Figure size 640x480 with 1 Axes>"
      ]
     },
     "metadata": {},
     "output_type": "display_data"
    }
   ],
   "source": [
    "split_date = pd.Timestamp('2019-01-01 23:58:00')\n",
    "\n",
    "test = data.loc[split_date:]\n",
    "train = data.loc[:split_date]\n",
    "\n",
    "ax = train.plot()\n",
    "test.plot(ax=ax)\n",
    "plt.legend(['train', 'test'])\n",
    "plt.show()"
   ]
  },
  {
   "cell_type": "code",
   "execution_count": 9,
   "metadata": {},
   "outputs": [],
   "source": [
    "from sklearn.preprocessing import MinMaxScaler\n",
    "sc = MinMaxScaler()\n",
    "train_sc = sc.fit_transform(train)\n",
    "test_sc = sc.transform(test)\n",
    "#train_sc=np.log(train)\n",
    "#test_sc=np.log(test)"
   ]
  },
  {
   "cell_type": "code",
   "execution_count": 10,
   "metadata": {},
   "outputs": [],
   "source": [
    "train_sc_df = pd.DataFrame(train_sc, columns=['Y'], index=train.index)\n",
    "test_sc_df = pd.DataFrame(test_sc, columns=['Y'], index=test.index)\n",
    "\n",
    "for s in range(1,2):\n",
    "    train_sc_df['X_{}'.format(s)] = train_sc_df['Y'].shift(s)\n",
    "    test_sc_df['X_{}'.format(s)] = test_sc_df['Y'].shift(s)\n",
    "\n",
    "X_train = train_sc_df.dropna().drop('Y', axis=1)\n",
    "y_train = train_sc_df.dropna().drop('X_1', axis=1)\n",
    "\n",
    "X_test = test_sc_df.dropna().drop('Y', axis=1)\n",
    "y_test = test_sc_df.dropna().drop('X_1', axis=1)\n",
    "\n",
    "X_train = X_train.to_numpy()\n",
    "y_train = y_train.to_numpy()\n",
    "\n",
    "X_test = X_test.to_numpy()\n",
    "y_test = y_test.to_numpy()"
   ]
  },
  {
   "cell_type": "markdown",
   "metadata": {},
   "source": [
    "### Phase3: LSTM layer"
   ]
  },
  {
   "cell_type": "code",
   "execution_count": 11,
   "metadata": {},
   "outputs": [
    {
     "name": "stdout",
     "output_type": "stream",
     "text": [
      "WARNING:tensorflow:From c:\\Users\\Mohan\\anaconda3\\envs\\base_2\\Lib\\site-packages\\keras\\src\\backend.py:873: The name tf.get_default_graph is deprecated. Please use tf.compat.v1.get_default_graph instead.\n",
      "\n",
      "WARNING:tensorflow:From c:\\Users\\Mohan\\anaconda3\\envs\\base_2\\Lib\\site-packages\\keras\\src\\optimizers\\__init__.py:309: The name tf.train.Optimizer is deprecated. Please use tf.compat.v1.train.Optimizer instead.\n",
      "\n",
      "Epoch 1/100\n",
      "WARNING:tensorflow:From c:\\Users\\Mohan\\anaconda3\\envs\\base_2\\Lib\\site-packages\\keras\\src\\utils\\tf_utils.py:492: The name tf.ragged.RaggedTensorValue is deprecated. Please use tf.compat.v1.ragged.RaggedTensorValue instead.\n",
      "\n",
      "178/178 [==============================] - 10s 5ms/step - loss: 0.0413\n",
      "Epoch 2/100\n",
      "178/178 [==============================] - 1s 5ms/step - loss: 2.8688e-04\n",
      "Epoch 3/100\n",
      "178/178 [==============================] - 1s 5ms/step - loss: 2.2493e-04\n",
      "Epoch 4/100\n",
      "178/178 [==============================] - 1s 5ms/step - loss: 1.6339e-04\n",
      "Epoch 5/100\n",
      "178/178 [==============================] - 1s 5ms/step - loss: 1.1010e-04\n",
      "Epoch 6/100\n",
      "178/178 [==============================] - 1s 5ms/step - loss: 7.4387e-05\n",
      "Epoch 7/100\n",
      "178/178 [==============================] - 1s 5ms/step - loss: 5.2314e-05\n",
      "Epoch 8/100\n",
      "178/178 [==============================] - 1s 5ms/step - loss: 4.3301e-05\n",
      "Epoch 9/100\n",
      "178/178 [==============================] - 1s 5ms/step - loss: 4.0736e-05\n",
      "Epoch 10/100\n",
      "178/178 [==============================] - 1s 5ms/step - loss: 4.0654e-05\n",
      "Epoch 11/100\n",
      "178/178 [==============================] - 1s 5ms/step - loss: 4.0477e-05\n",
      "Epoch 12/100\n",
      "178/178 [==============================] - 1s 5ms/step - loss: 3.9937e-05\n",
      "Epoch 13/100\n",
      "178/178 [==============================] - 1s 5ms/step - loss: 4.1390e-05\n",
      "Epoch 14/100\n",
      "178/178 [==============================] - 1s 5ms/step - loss: 4.1144e-05\n",
      "Epoch 15/100\n",
      "178/178 [==============================] - 1s 5ms/step - loss: 4.2652e-05\n",
      "Epoch 16/100\n",
      "178/178 [==============================] - 1s 5ms/step - loss: 4.0867e-05\n",
      "Epoch 17/100\n",
      "178/178 [==============================] - 1s 5ms/step - loss: 4.2121e-05\n",
      "Epoch 18/100\n",
      "178/178 [==============================] - 1s 5ms/step - loss: 4.1896e-05\n",
      "Epoch 19/100\n",
      "178/178 [==============================] - 1s 5ms/step - loss: 4.1468e-05\n",
      "Epoch 20/100\n",
      "178/178 [==============================] - 1s 5ms/step - loss: 4.4757e-05\n",
      "Epoch 21/100\n",
      "178/178 [==============================] - 1s 5ms/step - loss: 4.2231e-05\n",
      "Epoch 22/100\n",
      "178/178 [==============================] - 1s 5ms/step - loss: 4.3439e-05\n",
      "Epoch 23/100\n",
      "178/178 [==============================] - 1s 5ms/step - loss: 4.5776e-05\n",
      "Epoch 24/100\n",
      "178/178 [==============================] - 1s 5ms/step - loss: 4.2629e-05\n",
      "Epoch 25/100\n",
      "178/178 [==============================] - 1s 5ms/step - loss: 4.3259e-05\n",
      "Epoch 26/100\n",
      "178/178 [==============================] - 1s 5ms/step - loss: 4.2711e-05\n",
      "Epoch 27/100\n",
      "178/178 [==============================] - 1s 5ms/step - loss: 4.4254e-05\n",
      "Epoch 28/100\n",
      "178/178 [==============================] - 1s 5ms/step - loss: 4.5156e-05\n",
      "Epoch 29/100\n",
      "178/178 [==============================] - 1s 5ms/step - loss: 4.3735e-05\n",
      "Epoch 30/100\n",
      "178/178 [==============================] - 1s 5ms/step - loss: 4.1372e-05\n",
      "Epoch 31/100\n",
      "178/178 [==============================] - 1s 5ms/step - loss: 4.5578e-05\n",
      "Epoch 32/100\n",
      "178/178 [==============================] - 1s 5ms/step - loss: 4.6435e-05\n",
      "Epoch 33/100\n",
      "178/178 [==============================] - 1s 5ms/step - loss: 4.8644e-05\n",
      "Epoch 34/100\n",
      "178/178 [==============================] - 1s 5ms/step - loss: 4.2522e-05\n",
      "Epoch 35/100\n",
      "178/178 [==============================] - 1s 5ms/step - loss: 4.3040e-05\n",
      "Epoch 36/100\n",
      "178/178 [==============================] - 1s 5ms/step - loss: 4.5818e-05\n",
      "Epoch 37/100\n",
      "178/178 [==============================] - 1s 5ms/step - loss: 4.3849e-05\n",
      "Epoch 38/100\n",
      "178/178 [==============================] - 1s 5ms/step - loss: 4.6194e-05\n",
      "Epoch 39/100\n",
      "178/178 [==============================] - 1s 5ms/step - loss: 4.5373e-05\n",
      "Epoch 40/100\n",
      "178/178 [==============================] - 1s 5ms/step - loss: 4.5844e-05\n",
      "Epoch 41/100\n",
      "178/178 [==============================] - 1s 5ms/step - loss: 4.8664e-05\n",
      "Epoch 42/100\n",
      "178/178 [==============================] - 1s 5ms/step - loss: 4.4473e-05\n",
      "Epoch 43/100\n",
      "178/178 [==============================] - 1s 5ms/step - loss: 4.4713e-05\n",
      "Epoch 44/100\n",
      "178/178 [==============================] - 1s 5ms/step - loss: 4.5384e-05\n",
      "Epoch 45/100\n",
      "178/178 [==============================] - 1s 5ms/step - loss: 4.5872e-05\n",
      "Epoch 46/100\n",
      "178/178 [==============================] - 1s 5ms/step - loss: 4.4868e-05\n",
      "Epoch 47/100\n",
      "178/178 [==============================] - 1s 5ms/step - loss: 4.7400e-05\n",
      "Epoch 48/100\n",
      "178/178 [==============================] - 1s 5ms/step - loss: 4.4423e-05\n",
      "Epoch 49/100\n",
      "178/178 [==============================] - 1s 5ms/step - loss: 4.3831e-05\n",
      "Epoch 50/100\n",
      "178/178 [==============================] - 1s 5ms/step - loss: 4.3982e-05\n",
      "Epoch 51/100\n",
      "178/178 [==============================] - 1s 5ms/step - loss: 4.4485e-05\n",
      "Epoch 52/100\n",
      "178/178 [==============================] - 1s 5ms/step - loss: 4.6065e-05\n",
      "Epoch 53/100\n",
      "178/178 [==============================] - 1s 5ms/step - loss: 4.4488e-05\n",
      "Epoch 54/100\n",
      "178/178 [==============================] - 1s 5ms/step - loss: 4.7218e-05\n",
      "Epoch 55/100\n",
      "178/178 [==============================] - 1s 5ms/step - loss: 4.6276e-05\n",
      "Epoch 56/100\n",
      "178/178 [==============================] - 1s 5ms/step - loss: 4.5875e-05\n",
      "Epoch 57/100\n",
      "178/178 [==============================] - 1s 5ms/step - loss: 4.4045e-05\n",
      "Epoch 58/100\n",
      "178/178 [==============================] - 1s 5ms/step - loss: 4.7389e-05\n",
      "Epoch 59/100\n",
      "178/178 [==============================] - 1s 5ms/step - loss: 4.6264e-05\n",
      "Epoch 60/100\n",
      "178/178 [==============================] - 1s 5ms/step - loss: 5.0838e-05\n",
      "Epoch 61/100\n",
      "178/178 [==============================] - 1s 5ms/step - loss: 4.7118e-05\n",
      "Epoch 62/100\n",
      "178/178 [==============================] - 1s 5ms/step - loss: 4.5802e-05\n",
      "Epoch 63/100\n",
      "178/178 [==============================] - 1s 5ms/step - loss: 4.4785e-05\n",
      "Epoch 64/100\n",
      "178/178 [==============================] - 1s 5ms/step - loss: 4.3760e-05\n",
      "Epoch 65/100\n",
      "178/178 [==============================] - 1s 5ms/step - loss: 4.6195e-05\n",
      "Epoch 66/100\n",
      "178/178 [==============================] - 1s 5ms/step - loss: 4.7034e-05\n",
      "Epoch 67/100\n",
      "178/178 [==============================] - 1s 5ms/step - loss: 4.5045e-05\n",
      "Epoch 68/100\n",
      "178/178 [==============================] - 1s 5ms/step - loss: 4.7856e-05\n",
      "Epoch 69/100\n",
      "178/178 [==============================] - 1s 5ms/step - loss: 4.4928e-05\n",
      "Epoch 70/100\n",
      "178/178 [==============================] - 1s 5ms/step - loss: 4.4066e-05\n",
      "Epoch 71/100\n",
      "178/178 [==============================] - 1s 5ms/step - loss: 4.4420e-05\n",
      "Epoch 72/100\n",
      "178/178 [==============================] - 1s 5ms/step - loss: 4.2583e-05\n",
      "Epoch 73/100\n",
      "178/178 [==============================] - 1s 4ms/step - loss: 4.3015e-05\n",
      "Epoch 74/100\n",
      "178/178 [==============================] - 1s 5ms/step - loss: 4.3648e-05\n",
      "Epoch 75/100\n",
      "178/178 [==============================] - 1s 5ms/step - loss: 4.7635e-05\n",
      "Epoch 76/100\n",
      "178/178 [==============================] - 1s 5ms/step - loss: 4.7727e-05\n",
      "Epoch 77/100\n",
      "178/178 [==============================] - 1s 4ms/step - loss: 4.4374e-05\n",
      "Epoch 78/100\n",
      "178/178 [==============================] - 1s 4ms/step - loss: 4.7054e-05\n",
      "Epoch 79/100\n",
      "178/178 [==============================] - 1s 4ms/step - loss: 4.3728e-05\n",
      "Epoch 80/100\n",
      "178/178 [==============================] - 1s 4ms/step - loss: 4.6835e-05\n",
      "Epoch 81/100\n",
      "178/178 [==============================] - 1s 4ms/step - loss: 4.6974e-05\n",
      "Epoch 82/100\n",
      "178/178 [==============================] - 1s 4ms/step - loss: 4.2143e-05\n",
      "Epoch 83/100\n",
      "178/178 [==============================] - 1s 4ms/step - loss: 4.6659e-05\n",
      "Epoch 84/100\n",
      "178/178 [==============================] - 1s 4ms/step - loss: 4.3678e-05\n",
      "Epoch 85/100\n",
      "178/178 [==============================] - 1s 4ms/step - loss: 4.2569e-05\n",
      "Epoch 86/100\n",
      "178/178 [==============================] - 1s 4ms/step - loss: 4.3231e-05\n",
      "Epoch 87/100\n",
      "178/178 [==============================] - 1s 4ms/step - loss: 4.4991e-05\n",
      "Epoch 88/100\n",
      "178/178 [==============================] - 1s 4ms/step - loss: 4.7039e-05\n",
      "Epoch 89/100\n",
      "178/178 [==============================] - 1s 4ms/step - loss: 4.5803e-05\n",
      "Epoch 90/100\n",
      "178/178 [==============================] - 1s 4ms/step - loss: 4.4114e-05\n",
      "Epoch 91/100\n",
      "178/178 [==============================] - 1s 4ms/step - loss: 4.5333e-05\n",
      "Epoch 92/100\n",
      "178/178 [==============================] - 1s 4ms/step - loss: 4.3703e-05\n",
      "Epoch 93/100\n",
      "178/178 [==============================] - 1s 4ms/step - loss: 4.2737e-05\n",
      "Epoch 94/100\n",
      "178/178 [==============================] - 1s 4ms/step - loss: 4.5525e-05\n",
      "Epoch 95/100\n",
      "178/178 [==============================] - 1s 5ms/step - loss: 4.9448e-05\n",
      "Epoch 96/100\n",
      "178/178 [==============================] - 1s 4ms/step - loss: 4.3237e-05\n",
      "Epoch 97/100\n",
      "178/178 [==============================] - 1s 3ms/step - loss: 4.3351e-05\n",
      "Epoch 98/100\n",
      "178/178 [==============================] - 1s 3ms/step - loss: 4.5272e-05\n",
      "Epoch 99/100\n",
      "178/178 [==============================] - 1s 3ms/step - loss: 4.5578e-05\n",
      "Epoch 100/100\n",
      "178/178 [==============================] - 1s 3ms/step - loss: 4.6850e-05\n"
     ]
    },
    {
     "data": {
      "text/plain": [
       "<keras.src.callbacks.History at 0x24e7f12a910>"
      ]
     },
     "execution_count": 11,
     "metadata": {},
     "output_type": "execute_result"
    }
   ],
   "source": [
    "look_back = 10\n",
    "model = Sequential()\n",
    "model.add(LSTM(units=50, return_sequences=True, input_shape=(look_back, 1)))  # Hyperparameter: Number of LSTM units\n",
    "model.add(LSTM(units=50))\n",
    "model.add(Dense(1))\n",
    "model.compile(loss=\"mse\", optimizer=\"adam\")\n",
    "model.fit(X_train, y_train, epochs=100, batch_size=32)"
   ]
  },
  {
   "cell_type": "code",
   "execution_count": 12,
   "metadata": {},
   "outputs": [
    {
     "name": "stdout",
     "output_type": "stream",
     "text": [
      "Model: \"sequential\"\n",
      "_________________________________________________________________\n",
      " Layer (type)                Output Shape              Param #   \n",
      "=================================================================\n",
      " lstm (LSTM)                 (None, 10, 50)            10400     \n",
      "                                                                 \n",
      " lstm_1 (LSTM)               (None, 50)                20200     \n",
      "                                                                 \n",
      " dense (Dense)               (None, 1)                 51        \n",
      "                                                                 \n",
      "=================================================================\n",
      "Total params: 30651 (119.73 KB)\n",
      "Trainable params: 30651 (119.73 KB)\n",
      "Non-trainable params: 0 (0.00 Byte)\n",
      "_________________________________________________________________\n"
     ]
    }
   ],
   "source": [
    "model.summary()"
   ]
  },
  {
   "cell_type": "code",
   "execution_count": 13,
   "metadata": {},
   "outputs": [
    {
     "name": "stdout",
     "output_type": "stream",
     "text": [
      "58/58 [==============================] - 2s 2ms/step\n"
     ]
    }
   ],
   "source": [
    "lstm_predictions = model.predict(test_sc)"
   ]
  },
  {
   "cell_type": "code",
   "execution_count": 14,
   "metadata": {},
   "outputs": [],
   "source": [
    "residuals = test_sc - lstm_predictions"
   ]
  },
  {
   "cell_type": "code",
   "execution_count": 15,
   "metadata": {},
   "outputs": [
    {
     "data": {
      "text/plain": [
       "array([-0.00140205, -0.00133222, -0.00123395, ...,  0.00611718,\n",
       "        0.00611718,  0.00611718])"
      ]
     },
     "execution_count": 15,
     "metadata": {},
     "output_type": "execute_result"
    }
   ],
   "source": [
    "residuals.ravel()"
   ]
  },
  {
   "cell_type": "code",
   "execution_count": 16,
   "metadata": {},
   "outputs": [],
   "source": [
    "residuals= pd.DataFrame(residuals, columns=['Y'])\n",
    "for s in range(1,2):\n",
    "    residuals['X_{}'.format(s)] = residuals['Y'].shift(s)\n",
    "    \n",
    "residuals_x = residuals.dropna().drop('Y', axis=1)\n",
    "residuals_y = residuals.dropna().drop('X_1', axis=1)"
   ]
  },
  {
   "cell_type": "code",
   "execution_count": 17,
   "metadata": {},
   "outputs": [
    {
     "data": {
      "text/plain": [
       "((1825, 1), (1825, 1))"
      ]
     },
     "execution_count": 17,
     "metadata": {},
     "output_type": "execute_result"
    }
   ],
   "source": [
    "residuals_x.shape,residuals_y.shape"
   ]
  },
  {
   "cell_type": "markdown",
   "metadata": {},
   "source": [
    "### Phase4: Svr layer"
   ]
  },
  {
   "cell_type": "code",
   "execution_count": 18,
   "metadata": {},
   "outputs": [],
   "source": [
    "\n",
    "svr_model = SVR() #kernel='poly', C=1e3, epsilon=0.2"
   ]
  },
  {
   "cell_type": "code",
   "execution_count": 19,
   "metadata": {},
   "outputs": [
    {
     "name": "stderr",
     "output_type": "stream",
     "text": [
      "c:\\Users\\Mohan\\anaconda3\\envs\\base_2\\Lib\\site-packages\\sklearn\\utils\\validation.py:1183: DataConversionWarning: A column-vector y was passed when a 1d array was expected. Please change the shape of y to (n_samples, ), for example using ravel().\n",
      "  y = column_or_1d(y, warn=True)\n"
     ]
    },
    {
     "data": {
      "text/html": [
       "<style>#sk-container-id-1 {color: black;}#sk-container-id-1 pre{padding: 0;}#sk-container-id-1 div.sk-toggleable {background-color: white;}#sk-container-id-1 label.sk-toggleable__label {cursor: pointer;display: block;width: 100%;margin-bottom: 0;padding: 0.3em;box-sizing: border-box;text-align: center;}#sk-container-id-1 label.sk-toggleable__label-arrow:before {content: \"▸\";float: left;margin-right: 0.25em;color: #696969;}#sk-container-id-1 label.sk-toggleable__label-arrow:hover:before {color: black;}#sk-container-id-1 div.sk-estimator:hover label.sk-toggleable__label-arrow:before {color: black;}#sk-container-id-1 div.sk-toggleable__content {max-height: 0;max-width: 0;overflow: hidden;text-align: left;background-color: #f0f8ff;}#sk-container-id-1 div.sk-toggleable__content pre {margin: 0.2em;color: black;border-radius: 0.25em;background-color: #f0f8ff;}#sk-container-id-1 input.sk-toggleable__control:checked~div.sk-toggleable__content {max-height: 200px;max-width: 100%;overflow: auto;}#sk-container-id-1 input.sk-toggleable__control:checked~label.sk-toggleable__label-arrow:before {content: \"▾\";}#sk-container-id-1 div.sk-estimator input.sk-toggleable__control:checked~label.sk-toggleable__label {background-color: #d4ebff;}#sk-container-id-1 div.sk-label input.sk-toggleable__control:checked~label.sk-toggleable__label {background-color: #d4ebff;}#sk-container-id-1 input.sk-hidden--visually {border: 0;clip: rect(1px 1px 1px 1px);clip: rect(1px, 1px, 1px, 1px);height: 1px;margin: -1px;overflow: hidden;padding: 0;position: absolute;width: 1px;}#sk-container-id-1 div.sk-estimator {font-family: monospace;background-color: #f0f8ff;border: 1px dotted black;border-radius: 0.25em;box-sizing: border-box;margin-bottom: 0.5em;}#sk-container-id-1 div.sk-estimator:hover {background-color: #d4ebff;}#sk-container-id-1 div.sk-parallel-item::after {content: \"\";width: 100%;border-bottom: 1px solid gray;flex-grow: 1;}#sk-container-id-1 div.sk-label:hover label.sk-toggleable__label {background-color: #d4ebff;}#sk-container-id-1 div.sk-serial::before {content: \"\";position: absolute;border-left: 1px solid gray;box-sizing: border-box;top: 0;bottom: 0;left: 50%;z-index: 0;}#sk-container-id-1 div.sk-serial {display: flex;flex-direction: column;align-items: center;background-color: white;padding-right: 0.2em;padding-left: 0.2em;position: relative;}#sk-container-id-1 div.sk-item {position: relative;z-index: 1;}#sk-container-id-1 div.sk-parallel {display: flex;align-items: stretch;justify-content: center;background-color: white;position: relative;}#sk-container-id-1 div.sk-item::before, #sk-container-id-1 div.sk-parallel-item::before {content: \"\";position: absolute;border-left: 1px solid gray;box-sizing: border-box;top: 0;bottom: 0;left: 50%;z-index: -1;}#sk-container-id-1 div.sk-parallel-item {display: flex;flex-direction: column;z-index: 1;position: relative;background-color: white;}#sk-container-id-1 div.sk-parallel-item:first-child::after {align-self: flex-end;width: 50%;}#sk-container-id-1 div.sk-parallel-item:last-child::after {align-self: flex-start;width: 50%;}#sk-container-id-1 div.sk-parallel-item:only-child::after {width: 0;}#sk-container-id-1 div.sk-dashed-wrapped {border: 1px dashed gray;margin: 0 0.4em 0.5em 0.4em;box-sizing: border-box;padding-bottom: 0.4em;background-color: white;}#sk-container-id-1 div.sk-label label {font-family: monospace;font-weight: bold;display: inline-block;line-height: 1.2em;}#sk-container-id-1 div.sk-label-container {text-align: center;}#sk-container-id-1 div.sk-container {/* jupyter's `normalize.less` sets `[hidden] { display: none; }` but bootstrap.min.css set `[hidden] { display: none !important; }` so we also need the `!important` here to be able to override the default hidden behavior on the sphinx rendered scikit-learn.org. See: https://github.com/scikit-learn/scikit-learn/issues/21755 */display: inline-block !important;position: relative;}#sk-container-id-1 div.sk-text-repr-fallback {display: none;}</style><div id=\"sk-container-id-1\" class=\"sk-top-container\"><div class=\"sk-text-repr-fallback\"><pre>SVR()</pre><b>In a Jupyter environment, please rerun this cell to show the HTML representation or trust the notebook. <br />On GitHub, the HTML representation is unable to render, please try loading this page with nbviewer.org.</b></div><div class=\"sk-container\" hidden><div class=\"sk-item\"><div class=\"sk-estimator sk-toggleable\"><input class=\"sk-toggleable__control sk-hidden--visually\" id=\"sk-estimator-id-1\" type=\"checkbox\" checked><label for=\"sk-estimator-id-1\" class=\"sk-toggleable__label sk-toggleable__label-arrow\">SVR</label><div class=\"sk-toggleable__content\"><pre>SVR()</pre></div></div></div></div></div>"
      ],
      "text/plain": [
       "SVR()"
      ]
     },
     "execution_count": 19,
     "metadata": {},
     "output_type": "execute_result"
    }
   ],
   "source": [
    "svr_model.fit(residuals_x, residuals_y)"
   ]
  },
  {
   "cell_type": "code",
   "execution_count": 20,
   "metadata": {},
   "outputs": [],
   "source": [
    "svr_predictions = svr_model.predict(residuals_x)"
   ]
  },
  {
   "cell_type": "code",
   "execution_count": 21,
   "metadata": {},
   "outputs": [],
   "source": [
    "svr_predictions=svr_predictions.reshape(-1,1)"
   ]
  },
  {
   "cell_type": "code",
   "execution_count": 22,
   "metadata": {},
   "outputs": [
    {
     "data": {
      "text/plain": [
       "((1826, 1), (1825, 1))"
      ]
     },
     "execution_count": 22,
     "metadata": {},
     "output_type": "execute_result"
    }
   ],
   "source": [
    "lstm_predictions.shape,svr_predictions.shape"
   ]
  },
  {
   "cell_type": "code",
   "execution_count": 23,
   "metadata": {},
   "outputs": [],
   "source": [
    "final_predictions = lstm_predictions[1:] + svr_predictions"
   ]
  },
  {
   "cell_type": "code",
   "execution_count": 24,
   "metadata": {},
   "outputs": [
    {
     "data": {
      "text/plain": [
       "((1825, 1), (1825, 1))"
      ]
     },
     "execution_count": 24,
     "metadata": {},
     "output_type": "execute_result"
    }
   ],
   "source": [
    "test_sc[1:].shape,final_predictions.shape"
   ]
  },
  {
   "cell_type": "code",
   "execution_count": 25,
   "metadata": {},
   "outputs": [
    {
     "name": "stdout",
     "output_type": "stream",
     "text": [
      "Test MSE: 9.24898675339009e-06\n"
     ]
    }
   ],
   "source": [
    "test_mse = mean_squared_error(test_sc[1:], final_predictions)\n",
    "print('Test MSE:', test_mse)"
   ]
  },
  {
   "cell_type": "code",
   "execution_count": 26,
   "metadata": {},
   "outputs": [
    {
     "data": {
      "text/plain": [
       "((1826, 1), (1825, 1))"
      ]
     },
     "execution_count": 26,
     "metadata": {},
     "output_type": "execute_result"
    }
   ],
   "source": [
    "test_sc.shape,final_predictions.shape"
   ]
  },
  {
   "cell_type": "code",
   "execution_count": 27,
   "metadata": {},
   "outputs": [],
   "source": [
    "mae_lstm = mean_absolute_error(lstm_predictions[1:],y_test)\n",
    "mae_svr =mean_absolute_error(svr_predictions, y_test)\n",
    "mae_hybrid =mean_absolute_error(final_predictions,y_test)\n",
    "\n",
    "mse_lstm = mean_squared_error(lstm_predictions[1:],y_test)\n",
    "mse_svr =mean_squared_error(svr_predictions, y_test)\n",
    "mse_hybrid =mean_squared_error(final_predictions,y_test)\n",
    "\n",
    "rmse_lstm = np.sqrt(mean_squared_error(lstm_predictions[1:],y_test))\n",
    "rmse_svr =np.sqrt(mean_squared_error(svr_predictions, y_test))\n",
    "rmse_hybrid =np.sqrt(mean_squared_error(final_predictions,y_test))\n",
    "\n",
    "r2_lstm = r2_score(lstm_predictions[1:],y_test)\n",
    "r2_svr =r2_score(svr_predictions, y_test)\n",
    "r2_hybrid =r2_score(final_predictions,y_test)"
   ]
  },
  {
   "cell_type": "markdown",
   "metadata": {},
   "source": [
    "### Phase5: Results and Conclusions"
   ]
  },
  {
   "cell_type": "code",
   "execution_count": 28,
   "metadata": {},
   "outputs": [
    {
     "name": "stdout",
     "output_type": "stream",
     "text": [
      "Mean Absolute Error (LSTM)  : 0.002068335638226921\n",
      "Mean Absolute Error (SVR)    : 1.0350982387572583\n",
      "Mean Absolute Error (Hybrid): 0.0028404317644072\n",
      "\n",
      "Mean Squared Error (LSTM)  : 8.693824744623666e-06\n",
      "Mean Squared Error (SVR)    : 1.0872499539314409\n",
      "Mean Squared Error (Hybrid): 9.24898675339009e-06\n",
      "\n",
      "Root Mean Squared Error (LSTM)  : 0.002948529251105314\n",
      "Root Mean Squared Error (SVR)    : 1.0427127859249836\n",
      "Root Mean Squared Error (Hybrid): 0.0030412146838705895\n",
      "\n",
      "r2_score (LSTM)  : 0.9994278200971821\n",
      "r2_score (SVR)    : 0.0\n",
      "r2_score (Hybrid): 0.9993912823762625\n"
     ]
    },
    {
     "data": {
      "image/png": "[encoded data removed]",
      "text/plain": [
       "<Figure size 1200x600 with 1 Axes>"
      ]
     },
     "metadata": {},
     "output_type": "display_data"
    }
   ],
   "source": [
    "print(\"Mean Absolute Error (LSTM)  :\", mae_lstm)\n",
    "print(\"Mean Absolute Error (SVR)    :\", mae_svr)\n",
    "print(\"Mean Absolute Error (Hybrid):\", mae_hybrid)\n",
    "print(\"\")\n",
    "print(\"Mean Squared Error (LSTM)  :\", mse_lstm)\n",
    "print(\"Mean Squared Error (SVR)    :\", mse_svr)\n",
    "print(\"Mean Squared Error (Hybrid):\", mse_hybrid)\n",
    "print(\"\")\n",
    "print(\"Root Mean Squared Error (LSTM)  :\", rmse_lstm)\n",
    "print(\"Root Mean Squared Error (SVR)    :\", rmse_svr)\n",
    "print(\"Root Mean Squared Error (Hybrid):\", rmse_hybrid)\n",
    "print(\"\")\n",
    "print(\"r2_score (LSTM)  :\", r2_lstm)\n",
    "print(\"r2_score (SVR)    :\", r2_svr)\n",
    "print(\"r2_score (Hybrid):\", r2_hybrid)\n",
    "\n",
    "# Plot forecasts\n",
    "plt.figure(figsize=(12,6))\n",
    "plt.plot(y_test, label='Actual')\n",
    "plt.plot(lstm_predictions, label='LSTM')\n",
    "#plt.plot(svr_predictions, label='ARIMA')\n",
    "plt.plot(final_predictions, label='Hybrid')\n",
    "plt.legend()\n",
    "plt.show()"
   ]
  },
  {
   "cell_type": "code",
   "execution_count": 29,
   "metadata": {},
   "outputs": [],
   "source": [
    "final_predictions=np.array(final_predictions)\n",
    "final_predictions=pd.DataFrame(final_predictions)\n",
    "final_predictions.to_csv('LSTIM_SVR_USDINR.csv', index=False)"
   ]
  },
  {
   "cell_type": "code",
   "execution_count": null,
   "metadata": {},
   "outputs": [],
   "source": []
  }
 ],
 "metadata": {
  "kernelspec": {
   "display_name": "Python 3 (ipykernel)",
   "language": "python",
   "name": "python3"
  },
  "language_info": {
   "codemirror_mode": {
    "name": "ipython",
    "version": 3
   },
   "file_extension": ".py",
   "mimetype": "text/x-python",
   "name": "python",
   "nbconvert_exporter": "python",
   "pygments_lexer": "ipython3",
   "version": "3.11.8"
  }
 },
 "nbformat": 4,
 "nbformat_minor": 4
}
